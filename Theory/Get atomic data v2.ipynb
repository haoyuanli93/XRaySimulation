{
 "cells": [
  {
   "cell_type": "code",
   "execution_count": 1,
   "metadata": {},
   "outputs": [],
   "source": [
    "import larch\n",
    "import larch_plugins.xray as xray\n",
    "import numpy as np\n",
    "\n",
    "import pickle"
   ]
  },
  {
   "cell_type": "code",
   "execution_count": 2,
   "metadata": {},
   "outputs": [],
   "source": [
    "# mu_rho_unit_conversion_coefficient = 2.751068954636349 * 1e-21\n",
    "mu_rho_unit_conversion_coefficient = 10."
   ]
  },
  {
   "cell_type": "code",
   "execution_count": 3,
   "metadata": {},
   "outputs": [
    {
     "name": "stdout",
     "output_type": "stream",
     "text": [
      "C\n",
      "N\n",
      "O\n",
      "F\n",
      "Ne\n",
      "Na\n",
      "Mg\n",
      "Al\n",
      "Si\n",
      "P\n",
      "S\n",
      "Cl\n",
      "Ar\n",
      "K\n",
      "Ca\n",
      "Sc\n",
      "Ti\n",
      "V\n",
      "Cr\n",
      "Mn\n",
      "Fe\n",
      "Co\n",
      "Ni\n",
      "Cu\n",
      "Zn\n",
      "Ga\n",
      "Ge\n",
      "As\n",
      "Se\n",
      "Br\n",
      "Kr\n",
      "Rb\n",
      "Sr\n",
      "Y\n"
     ]
    }
   ],
   "source": [
    "atom_info = {}\n",
    "\n",
    "for atomic_number in range(6,40):\n",
    "    \n",
    "    # Get atom symbol\n",
    "    atom_symbol = xray.atomic_symbol(atomic_number)\n",
    "    print(atom_symbol)\n",
    "    \n",
    "    # Get chantler energies between 1keV and 20keV\n",
    "    # energies = xray.xraydb_plugin.chantler_energies(atom_symbol, 1e3, 2e4)\n",
    "    energies = np.linspace(900, 20000, num=5000)\n",
    "    \n",
    "    # Get the f1 values \n",
    "    f1_values = xray.f1_chantler(atomic_number, energies)\n",
    "    \n",
    "    # Get the f2 values\n",
    "    f2_values = xray.f2_chantler(atomic_number, energies)\n",
    "    \n",
    "    # Get the mu/rho values\n",
    "    mu_rho_values = xray.mu_chantler(atomic_number, energies)\n",
    "    \n",
    "    atom_info.update({atom_symbol:{\"chantler energies\":energies / 1000.,\n",
    "                                   \"fp values\":        f1_values,\n",
    "                                   \"fpp values\":       f2_values,\n",
    "                                   \"mu over rho\":      mu_rho_values * mu_rho_unit_conversion_coefficient}})\n",
    "    \n",
    "with open(\"C:/Users/haoyuan/Desktop/atom_database.pkl\",\"wb\") as outfile:\n",
    "    pickle.dump(atom_info, outfile)"
   ]
  },
  {
   "cell_type": "code",
   "execution_count": 4,
   "metadata": {},
   "outputs": [],
   "source": [
    "with open(\"C:/Users/haoyuan/Desktop/atom_database.pkl\",\"rb\") as infile:\n",
    "    new_file = pickle.load(infile)"
   ]
  },
  {
   "cell_type": "code",
   "execution_count": 5,
   "metadata": {
    "scrolled": false
   },
   "outputs": [
    {
     "name": "stdout",
     "output_type": "stream",
     "text": [
      "\"C\":6,\n",
      "\"N\":7,\n",
      "\"O\":8,\n",
      "\"F\":9,\n",
      "\"Ne\":10,\n",
      "\"Na\":11,\n",
      "\"Mg\":12,\n",
      "\"Al\":13,\n",
      "\"Si\":14,\n",
      "\"P\":15,\n",
      "\"S\":16,\n",
      "\"Cl\":17,\n",
      "\"Ar\":18,\n",
      "\"K\":19,\n",
      "\"Ca\":20,\n",
      "\"Sc\":21,\n",
      "\"Ti\":22,\n",
      "\"V\":23,\n",
      "\"Cr\":24,\n",
      "\"Mn\":25,\n",
      "\"Fe\":26,\n",
      "\"Co\":27,\n",
      "\"Ni\":28,\n",
      "\"Cu\":29,\n",
      "\"Zn\":30,\n",
      "\"Ga\":31,\n",
      "\"Ge\":32,\n",
      "\"As\":33,\n",
      "\"Se\":34,\n",
      "\"Br\":35,\n",
      "\"Kr\":36,\n",
      "\"Rb\":37,\n",
      "\"Sr\":38,\n",
      "\"Y\":39,\n"
     ]
    }
   ],
   "source": [
    "for atomic_number in range(6,40):\n",
    "    \n",
    "    # Get atom symbol\n",
    "    atom_symbol = xray.atomic_symbol(atomic_number)\n",
    "    print(\"\\\"{}\\\":{},\".format(atom_symbol, atomic_number))"
   ]
  },
  {
   "cell_type": "code",
   "execution_count": 6,
   "metadata": {},
   "outputs": [],
   "source": [
    "atom_name_list = []\n",
    "\n",
    "for atomic_number in range(6,40):\n",
    "    \n",
    "    # Get atom symbol\n",
    "    atom_symbol = xray.atomic_symbol(atomic_number)\n",
    "    atom_name_list.append(atom_symbol)"
   ]
  },
  {
   "cell_type": "code",
   "execution_count": 7,
   "metadata": {},
   "outputs": [
    {
     "data": {
      "text/plain": [
       "['C',\n",
       " 'N',\n",
       " 'O',\n",
       " 'F',\n",
       " 'Ne',\n",
       " 'Na',\n",
       " 'Mg',\n",
       " 'Al',\n",
       " 'Si',\n",
       " 'P',\n",
       " 'S',\n",
       " 'Cl',\n",
       " 'Ar',\n",
       " 'K',\n",
       " 'Ca',\n",
       " 'Sc',\n",
       " 'Ti',\n",
       " 'V',\n",
       " 'Cr',\n",
       " 'Mn',\n",
       " 'Fe',\n",
       " 'Co',\n",
       " 'Ni',\n",
       " 'Cu',\n",
       " 'Zn',\n",
       " 'Ga',\n",
       " 'Ge',\n",
       " 'As',\n",
       " 'Se',\n",
       " 'Br',\n",
       " 'Kr',\n",
       " 'Rb',\n",
       " 'Sr',\n",
       " 'Y']"
      ]
     },
     "execution_count": 7,
     "metadata": {},
     "output_type": "execute_result"
    }
   ],
   "source": [
    "atom_name_list"
   ]
  },
  {
   "cell_type": "code",
   "execution_count": null,
   "metadata": {},
   "outputs": [],
   "source": []
  }
 ],
 "metadata": {
  "kernelspec": {
   "display_name": "Python 3",
   "language": "python",
   "name": "python3"
  },
  "language_info": {
   "codemirror_mode": {
    "name": "ipython",
    "version": 3
   },
   "file_extension": ".py",
   "mimetype": "text/x-python",
   "name": "python",
   "nbconvert_exporter": "python",
   "pygments_lexer": "ipython3",
   "version": "3.6.10"
  }
 },
 "nbformat": 4,
 "nbformat_minor": 4
}
