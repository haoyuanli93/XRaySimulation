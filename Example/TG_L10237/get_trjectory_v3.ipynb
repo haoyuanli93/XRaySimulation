{
 "cells": [
  {
   "cell_type": "code",
   "execution_count": 1,
   "metadata": {
    "scrolled": false,
    "ExecuteTime": {
     "end_time": "2024-03-01T06:47:10.509322200Z",
     "start_time": "2024-03-01T06:47:09.457548100Z"
    }
   },
   "outputs": [],
   "source": [
    "import numpy as np\n",
    "import sys\n",
    "import matplotlib.pyplot as plt\n",
    "\n",
    "sys.path.append(\"C:/Users/haoyu/Documents/GitHub/XRaySimulation\")\n",
    "\n",
    "from XRaySimulation import Pulse, DeviceSimu, util, Crystal\n",
    "\n",
    "plt.rcParams.update({'font.size': 22})\n"
   ]
  },
  {
   "cell_type": "code",
   "execution_count": 29,
   "metadata": {
    "ExecuteTime": {
     "end_time": "2024-03-01T07:01:11.168775800Z",
     "start_time": "2024-03-01T07:01:11.146930600Z"
    }
   },
   "outputs": [],
   "source": [
    "# Specify the parameter here\n",
    "# --------------------------------------------------\n",
    "# X-ray parameter before the miniSD\n",
    "Ec = 9.5  # photon central energy in keV\n",
    "FWHM = 50  # beam transverse size in intensity FWHM (um)\n",
    "polarization = np.array([1, 0, 0])  # X-ray polarization.  The three entries are respectively y,x,z axis in XPP hutch\n",
    "\n",
    "# --------------------------------------------------\n",
    "#  Location of the first grating and the second grating for the original miniSD setup\n",
    "miniSD_grating_position_1 = 3.01e6  # um\n",
    "miniSD_grating_position_2 = 3.24e6  # um\n",
    "miniSD_grating_period = 1.\n",
    "\n",
    "TG_grating_period = 0.5\n",
    "TG_grating_position = 1.5e6\n",
    "\n",
    "# -------------------------------------------------\n",
    "#  Mirror angle and crystal angle for the TG pump and probe\n",
    "\n",
    "# -------------------------------------------------\n",
    "#  Define crystal parameters\n",
    "h_length = 2. * np.pi / (1.9201 * 1e-4)\n",
    "# Some crystal properties\n",
    "crystal_property = {'d': 1.9201 * 1e-4,\n",
    "                    \"chi0\": complex(-0.97631E-05, 0.14871E-06),\n",
    "                    \"chih_sigma\": complex(0.59310E-05, -0.14320E-06),\n",
    "                    \"chihbar_sigma\": complex(0.59310E-05, -0.14320E-06),\n",
    "                    \"chih_pi\": complex(0.46945E-05, -0.11201E-06),\n",
    "                    \"chihbar_pi\": complex(0.46945E-05, -0.11201E-06),\n",
    "                    }\n",
    "\n",
    "\n",
    "def prepare_beam_optics():\n",
    "    pre_length = 1e6\n",
    "\n",
    "    # Set up the pulse\n",
    "    FWHM = 50.  # (um)\n",
    "\n",
    "    my_pulse = Pulse.GaussianPulse3D()\n",
    "    my_pulse.set_pulse_properties(central_energy=Ec,\n",
    "                                  polar=[1., 0., 0.],\n",
    "                                  sigma_x=FWHM / 2. / np.sqrt(np.log(2)) / util.c,\n",
    "                                  sigma_y=FWHM / 2. / np.sqrt(np.log(2)) / util.c,\n",
    "                                  sigma_z=9.,\n",
    "                                  x0=np.array([0., 0., -pre_length - miniSD_grating_position_1]))\n",
    "\n",
    "    # ----------------------------------------------------\n",
    "    # Define gratings for the miniSD\n",
    "    miniSD_gratings_cc = [Crystal.RectangleGrating(a=miniSD_grating_period / 2.,\n",
    "                                                   b=miniSD_grating_period / 2.,\n",
    "                                                   surface_point=np.array([0, 0, -miniSD_grating_position_1]),\n",
    "                                                   order=-1.),\n",
    "                          Crystal.RectangleGrating(a=miniSD_grating_period / 2.,\n",
    "                                                   b=miniSD_grating_period / 2.,\n",
    "                                                   surface_point=np.array([0, 0, miniSD_grating_position_2]),\n",
    "                                                   order=1.)]\n",
    "\n",
    "    miniSD_gratings_vcc = [Crystal.RectangleGrating(a=miniSD_grating_period / 2.,\n",
    "                                                    b=miniSD_grating_period / 2.,\n",
    "                                                    surface_point=np.array([0, 0, -miniSD_grating_position_1]),\n",
    "                                                    order=1.),\n",
    "                           Crystal.RectangleGrating(a=miniSD_grating_period / 2.,\n",
    "                                                    b=miniSD_grating_period / 2.,\n",
    "                                                    surface_point=np.array([0, 0, miniSD_grating_position_2]),\n",
    "                                                    order=-1.)]\n",
    "\n",
    "    # -----------------------------------------------------\n",
    "    # Define grating for the TG\n",
    "    TG_grating_a = Crystal.RectangleGrating(a=TG_grating_period / 2.,\n",
    "                                            b=TG_grating_period / 2.,\n",
    "                                            surface_point=np.array([0, 0, TG_grating_position]),\n",
    "                                            order=-1.)\n",
    "    TG_grating_b = Crystal.RectangleGrating(a=TG_grating_period / 2.,\n",
    "                                            b=TG_grating_period / 2.,\n",
    "                                            surface_point=np.array([0, 0, TG_grating_position]),\n",
    "                                            order=1.)\n",
    "\n",
    "    # -------------------------------------------------------------------------\n",
    "    #                         VCC branch\n",
    "    vcc_channel_cut_config = [\"lower left\", 'upper left', 'upper left', 'lower left']\n",
    "    vcc_channel_cut_angles = np.deg2rad(np.array([[0, -5], [0, 5], [0, 5], [0, -5]]))\n",
    "    vcc_channel_cut_locations = [198510.0, 376510.0, 600000.0, 825010.0]\n",
    "\n",
    "    vcc_channel_cuts = [Crystal.ChannelCut(crystal_type=\"Silicon\",\n",
    "                                           miller_index=\"220\",\n",
    "                                           energy_keV=Ec,\n",
    "                                           thickness_list=np.array([1e4, 1e4]),\n",
    "                                           gap=13.595e3,\n",
    "                                           surface_center_offset=32.5,\n",
    "                                           edge_length_list=np.array([50e3, 65.25e3]),\n",
    "                                           asymmetry_angle_list=vcc_channel_cut_angles[_x],\n",
    "                                           first_surface_loc=vcc_channel_cut_config[_x],\n",
    "                                           source=None,\n",
    "                                           crystal_property=crystal_property)\n",
    "                        for _x in range(4)]\n",
    "    # Change the location of the crystals\n",
    "    for idx in range(2):\n",
    "        vcc_channel_cuts[idx].shift(displacement=np.array([0, 0, vcc_channel_cut_locations[idx]]))\n",
    "\n",
    "    # Align the angle of each crystal\n",
    "    kout1 = DeviceSimu.get_kout_single_device(device=miniSD_gratings_vcc[0], kin=my_pulse.k0)\n",
    "    fixed_surface_idx = [0, 1, 1, 0]\n",
    "    for idx in range(4):\n",
    "        kout2, _, _, _ = DeviceSimu.align_channel_cut_dynamical_bragg_reflection(channelcut=vcc_channel_cuts[idx],\n",
    "                                                                                 kin=kout1,\n",
    "                                                                                 rot_center=\n",
    "                                                                                 vcc_channel_cuts[idx].crystal_list[\n",
    "                                                                                     fixed_surface_idx[\n",
    "                                                                                         idx]].surface_point,\n",
    "                                                                                 get_curve=True)\n",
    "        kout1 = np.copy(kout2)\n",
    "\n",
    "    # -----------------------------------------------------------------------------------\n",
    "    #                      CC branch\n",
    "    cc_channel_cut_config = [\"upper left\", 'lower left', ]\n",
    "    cc_channel_cut_angles = np.deg2rad(np.array([[0, 0], [0, 0]]))\n",
    "    cc_channel_cut_locations = [0.0, 1050020.0]\n",
    "    cc_channel_cut_edge_length_list = np.array([[40e3, 100e3],\n",
    "                                                [15e3, 120e3]])\n",
    "    cc_channel_cut_center_offset = [30e3, 52.5e3]\n",
    "    cc_channel_cut_gap = [25.15e3, 25.8e3]\n",
    "\n",
    "    cc_channel_cuts = [Crystal.ChannelCut(crystal_type=\"Silicon\",\n",
    "                                          miller_index=\"220\",\n",
    "                                          energy_keV=Ec,\n",
    "                                          thickness_list=np.array([1e4, 1e4]),\n",
    "                                          gap=cc_channel_cut_gap[_x],\n",
    "                                          surface_center_offset=cc_channel_cut_center_offset[_x],\n",
    "                                          edge_length_list=cc_channel_cut_edge_length_list[_x],\n",
    "                                          asymmetry_angle_list=cc_channel_cut_angles[_x],\n",
    "                                          first_surface_loc=cc_channel_cut_config[_x],\n",
    "                                          source=None,\n",
    "                                          crystal_property=crystal_property)\n",
    "                       for _x in range(2)]\n",
    "\n",
    "    # ------------------------------------------------------------------------------------\n",
    "    # Change location of CC crystals\n",
    "    for idx in range(2):\n",
    "        cc_channel_cuts[idx].shift(displacement=np.array([0, 0, cc_channel_cut_locations[idx]]))\n",
    "\n",
    "    # Align the angle of each crystal\n",
    "    kout1 = DeviceSimu.get_kout_single_device(device=miniSD_gratings_cc[0], kin=my_pulse.k0)\n",
    "    fixed_surface_idx = [0, 1]\n",
    "    for idx in range(2):\n",
    "        kout2, _, _, _ = DeviceSimu.align_channel_cut_dynamical_bragg_reflection(channelcut=cc_channel_cuts[idx],\n",
    "                                                                                 kin=kout1,\n",
    "                                                                                 rot_center=\n",
    "                                                                                 cc_channel_cuts[idx].crystal_list[\n",
    "                                                                                     fixed_surface_idx[\n",
    "                                                                                         idx]].surface_point,\n",
    "                                                                                 get_curve=True)\n",
    "        kout1 = np.copy(kout2)\n",
    "\n",
    "    return my_pulse, miniSD_gratings_cc, miniSD_gratings_vcc, vcc_channel_cuts, cc_channel_cuts, TG_grating_a, TG_grating_b\n"
   ]
  },
  {
   "cell_type": "code",
   "execution_count": 30,
   "outputs": [
    {
     "name": "stdout",
     "output_type": "stream",
     "text": [
      "The geometric Bragg angle is 19.87 deg\n",
      "The geometric Bragg angle is 19.87 deg\n",
      "The geometric Bragg angle is 19.87 deg\n",
      "The geometric Bragg angle is 19.87 deg\n",
      "The geometric Bragg angle is 19.87 deg\n",
      "The geometric Bragg angle is 19.87 deg\n"
     ]
    }
   ],
   "source": [
    "my_pulse, miniSD_gratings_cc, miniSD_gratings_vcc, vcc_channel_cuts, cc_channel_cuts, TG_grating_a, TG_grating_b = prepare_beam_optics()"
   ],
   "metadata": {
    "collapsed": false,
    "ExecuteTime": {
     "end_time": "2024-03-01T07:01:12.501077700Z",
     "start_time": "2024-03-01T07:01:11.755263900Z"
    }
   }
  },
  {
   "cell_type": "code",
   "execution_count": 31,
   "outputs": [
    {
     "name": "stdout",
     "output_type": "stream",
     "text": [
      "[0. 0. 0.]\n",
      "[     0.         -33850.89899548  19663.14159023]\n",
      "[       0.         -1070224.9694099    358360.35584909]\n",
      "[       0.         -1028123.12022891   398972.22967365]\n"
     ]
    }
   ],
   "source": [
    "for x in range(2):\n",
    "    for idx in range(2):\n",
    "        print(cc_channel_cuts[x].crystal_list[idx].surface_point)"
   ],
   "metadata": {
    "collapsed": false,
    "ExecuteTime": {
     "end_time": "2024-03-01T07:01:13.265037100Z",
     "start_time": "2024-03-01T07:01:13.246606400Z"
    }
   }
  },
  {
   "cell_type": "code",
   "execution_count": 32,
   "outputs": [
    {
     "data": {
      "text/plain": "<Figure size 2000x1000 with 1 Axes>",
      "image/png": "[encoded data removed]"
     },
     "metadata": {},
     "output_type": "display_data"
    }
   ],
   "source": [
    "fig = plt.figure(figsize=(20, 10))\n",
    "ax = fig.add_subplot(111)\n",
    "\n",
    "for x in range(4):\n",
    "    for idx in range(2):\n",
    "        ax.plot(vcc_channel_cuts[x].crystal_list[idx].boundary[:, 2] / 1000,\n",
    "                vcc_channel_cuts[x].crystal_list[idx].boundary[:, 1] / 1000,\n",
    "                )\n",
    "\n",
    "for x in range(2):\n",
    "    for idx in range(2):\n",
    "        ax.plot(cc_channel_cuts[x].crystal_list[idx].boundary[:, 2] / 1000,\n",
    "                cc_channel_cuts[x].crystal_list[idx].boundary[:, 1] / 1000,\n",
    "                'k')\n",
    "\n",
    "ax.set_aspect(\"equal\")\n",
    "#ax.set_ylim([-200, 200])\n",
    "#ax.set_xlim([-100, 1200])\n",
    "\n",
    "\n",
    "plt.show()"
   ],
   "metadata": {
    "collapsed": false,
    "ExecuteTime": {
     "end_time": "2024-03-01T07:01:14.347836100Z",
     "start_time": "2024-03-01T07:01:14.229525600Z"
    }
   }
  },
  {
   "cell_type": "markdown",
   "source": [
    "# Step 2: Create grating and mirrors for the transient grating"
   ],
   "metadata": {
    "collapsed": false
   }
  }
 ],
 "metadata": {
  "kernelspec": {
   "display_name": "Python 3",
   "language": "python",
   "name": "python3"
  },
  "language_info": {
   "codemirror_mode": {
    "name": "ipython",
    "version": 3
   },
   "file_extension": ".py",
   "mimetype": "text/x-python",
   "name": "python",
   "nbconvert_exporter": "python",
   "pygments_lexer": "ipython3",
   "version": "3.6.10"
  }
 },
 "nbformat": 4,
 "nbformat_minor": 2
}
