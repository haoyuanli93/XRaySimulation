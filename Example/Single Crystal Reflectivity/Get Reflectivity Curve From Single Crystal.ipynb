{
 "cells": [
  {
   "cell_type": "markdown",
   "metadata": {},
   "source": [
    "# ReadMe\n",
    "\n",
    "Unless explicitly specified, the basic units in this notebook are constructed from um, fs and keV without other constant."
   ]
  },
  {
   "cell_type": "code",
   "execution_count": 1,
   "metadata": {},
   "outputs": [],
   "source": [
    "import sys\n",
    "sys.path.append(\"../../../XRaySimulation\")\n",
    "\n",
    "import numpy as np\n",
    "import matplotlib.pyplot as plt\n",
    "\n",
    "from XRaySimulation import util, misc, Crystal"
   ]
  },
  {
   "cell_type": "markdown",
   "metadata": {},
   "source": [
    " ![](Example1.png)"
   ]
  },
  {
   "cell_type": "markdown",
   "metadata": {},
   "source": [
    "# Specify the crystal "
   ]
  },
  {
   "cell_type": "code",
   "execution_count": 9,
   "metadata": {},
   "outputs": [],
   "source": [
    "# The length of the reciprocal lattice\n",
    "h_length = 2. * np.pi / (2.0593 * 1e-4)\n",
    "\n",
    "# Some crystal properties\n",
    "chi_dict = {\"chi0\":complex(-0.16194E-04 ,     0.15257E-07),\n",
    "            \"chih_sigma\":complex(0.58984E-05 , - 0.10603E-07 ),\n",
    "            \"chihbar_sigma\":complex(0.58984E-05 , - 0.10603E-07),\n",
    "            \"chih_pi\":complex(0.47139E-05, -0.83666E-08),\n",
    "            \"chihbar_pi\":complex(0.47139E-05, -0.83666E-08)\n",
    "           }\n",
    "\n",
    "# Asymmetric angle\n",
    "alphas = -np.deg2rad(0.)\n",
    "\n",
    "# Initialize the crystals\n",
    "my_crystal = Crystal.CrystalBlock3D(h=np.array([0, h_length, 0]),\n",
    "                                         normal=-np.array([0., np.cos(alphas),np.sin(alphas)]),\n",
    "                                         surface_point=np.zeros(3),\n",
    "                                         thickness=1e6,\n",
    "                                         chi_dict=chi_dict)\n",
    "\n",
    "# Set the thickness of the crystal\n",
    "my_crystal.set_thickness(d = 1e6) # Set the thickness to be 1e6 um = 1m"
   ]
  },
  {
   "cell_type": "markdown",
   "metadata": {},
   "source": [
    "# Specify incident wave vectors"
   ]
  },
  {
   "cell_type": "code",
   "execution_count": 15,
   "metadata": {},
   "outputs": [],
   "source": [
    "central_energy = 9.5 #kev\n",
    "number_wavevec = 1000  # The number of wave vector to calculate \n",
    "energy_range = 3e-3 #keV.  The energy to calculate the reflectivity"
   ]
  },
  {
   "cell_type": "code",
   "execution_count": 16,
   "metadata": {},
   "outputs": [
    {
     "name": "stdout",
     "output_type": "stream",
     "text": [
      "The bragg angle is 18.47 degree\n"
     ]
    }
   ],
   "source": [
    "# Convert the energy to the wave vector\n",
    "central_wavevec = np.array([0,0, util.kev_to_wave_number(central_energy)])\n",
    "\n",
    "# Get the wave vector array and other axes info\n",
    "k_in_grid, axis_info = util.get_k_mesh_1d(number = number_wavevec, energy_range = energy_range)\n",
    "\n",
    "# Add the reference wave vector to the wave vector\n",
    "k_in_grid += central_wavevec[np.newaxis, :]\n",
    "\n",
    "# Define the bragg angle to rotate the wave vector array\n",
    "bragg = util.get_bragg_angle(wave_length = np.pi * 2 / util.kev_to_wave_number(energy=central_energy),\n",
    "                             plane_distance = np.pi * 2 / h_length)\n",
    "print(\"The bragg angle is {:.2f} degree\".format(np.rad2deg(bragg)))\n",
    "\n",
    "# Ajust the Bragg angle a bit\n",
    "\"\"\"\n",
    "This is just used to shift the rocking curve to the center.\n",
    "This is not necessary.\n",
    "\"\"\"\n",
    "bragg += 11e-6\n",
    "\n",
    "# Get the rotation matrix for the rotation\n",
    "rot_mat = util.rot_mat_in_yz_plane(theta= bragg)\n",
    "\n",
    "# Rotate the wave vectors\n",
    "k_in_grid = np.dot(k_in_grid, rot_mat.T)"
   ]
  },
  {
   "cell_type": "markdown",
   "metadata": {},
   "source": [
    "# Get the reflectivity"
   ]
  },
  {
   "cell_type": "code",
   "execution_count": 17,
   "metadata": {},
   "outputs": [
    {
     "name": "stdout",
     "output_type": "stream",
     "text": [
      "Finish calculating the reflectivity\n"
     ]
    }
   ],
   "source": [
    "(reflect_sigma, \n",
    " reflect_pi,\n",
    " b,\n",
    " kout_grid) = util.get_bragg_reflection_array(kin_grid = k_in_grid,\n",
    "                                         d = my_crystal.thickness,\n",
    "                                         h = my_crystal.h,\n",
    "                                         n = my_crystal.normal,\n",
    "                                         chi0 = my_crystal.chi0,\n",
    "                                         chih_sigma = my_crystal.chih_sigma,\n",
    "                                         chihbar_sigma = my_crystal.chihbar_sigma,\n",
    "                                         chih_pi = my_crystal.chih_pi,\n",
    "                                         chihbar_pi = my_crystal.chihbar_pi)\n",
    "print(\"Finish calculating the reflectivity\")\n",
    "\n",
    "sigma_reflectivity = np.abs(np.square(reflect_sigma)) / np.abs(b)\n",
    "pi_reflectivity = np.abs(np.square(reflect_pi)) / np.abs(b)"
   ]
  },
  {
   "cell_type": "markdown",
   "metadata": {},
   "source": [
    "# Show the reflectivity"
   ]
  },
  {
   "cell_type": "code",
   "execution_count": 18,
   "metadata": {},
   "outputs": [
    {
     "data": {
      "image/png": "[encoded data removed]",
      "text/plain": [
       "<Figure size 720x360 with 1 Axes>"
      ]
     },
     "metadata": {
      "needs_background": "light"
     },
     "output_type": "display_data"
    }
   ],
   "source": [
    "fig, axes = plt.subplots(nrows=1, ncols=1)\n",
    "fig.set_figheight(5)\n",
    "fig.set_figwidth(10)\n",
    "\n",
    "axes.plot(axis_info['energy_grid'] * 1000, sigma_reflectivity,'b', label=\"Sigma\")\n",
    "axes.plot(axis_info['energy_grid'] * 1000, pi_reflectivity,'r--', label=\"Pi\")\n",
    "\n",
    "axes.legend(loc = \"upper right\")\n",
    "axes.set_title(\"Reflectivity of Sigma and Pi polarization, Si (660), E_c = 10keV\")\n",
    "axes.set_xlabel(\"Energy: E-E_c (eV)\")\n",
    "axes.set_ylabel(\"Reflectivity\")\n",
    "\n",
    "plt.show()\n"
   ]
  },
  {
   "cell_type": "markdown",
   "metadata": {},
   "source": [
    "# Get Bandwidth"
   ]
  },
  {
   "cell_type": "code",
   "execution_count": 19,
   "metadata": {
    "scrolled": true
   },
   "outputs": [
    {
     "name": "stdout",
     "output_type": "stream",
     "text": [
      "The fwhm of the reflectivity curver of the sigma polarization is\n",
      "5.89e-01 eV\n",
      "The fwhm of the reflectivity curver of the pi polarization is\n",
      "3.72e-01 eV\n"
     ]
    }
   ],
   "source": [
    "fwhm_sigma = misc.get_fwhm(coordinate=axis_info[\"energy_grid\"],\n",
    "                           curve_values=sigma_reflectivity)\n",
    "\n",
    "print(\"The fwhm of the reflectivity curver of the sigma polarization is\")\n",
    "print(\"{:.2e} eV\".format(fwhm_sigma * 1000))\n",
    "\n",
    "fwhm_pi = misc.get_fwhm(coordinate=axis_info[\"energy_grid\"],\n",
    "                           curve_values=pi_reflectivity)\n",
    "\n",
    "print(\"The fwhm of the reflectivity curver of the pi polarization is\")\n",
    "print(\"{:.2e} eV\".format(fwhm_pi * 1000))"
   ]
  },
  {
   "cell_type": "code",
   "execution_count": 20,
   "metadata": {},
   "outputs": [
    {
     "data": {
      "text/plain": [
       "1.3157645985022555"
      ]
     },
     "execution_count": 20,
     "metadata": {},
     "output_type": "execute_result"
    }
   ],
   "source": [
    "util.bandwidth_sigma_kev_to_duration_sigma_fs(util.fwhm_to_sigma(5.89e-01 / 1000))"
   ]
  },
  {
   "cell_type": "code",
   "execution_count": null,
   "metadata": {},
   "outputs": [],
   "source": []
  }
 ],
 "metadata": {
  "kernelspec": {
   "display_name": "Python 3",
   "language": "python",
   "name": "python3"
  },
  "language_info": {
   "codemirror_mode": {
    "name": "ipython",
    "version": 3
   },
   "file_extension": ".py",
   "mimetype": "text/x-python",
   "name": "python",
   "nbconvert_exporter": "python",
   "pygments_lexer": "ipython3",
   "version": "3.6.10"
  }
 },
 "nbformat": 4,
 "nbformat_minor": 4
}
