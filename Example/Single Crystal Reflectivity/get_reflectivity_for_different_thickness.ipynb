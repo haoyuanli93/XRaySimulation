{
 "cells": [
  {
   "cell_type": "markdown",
   "metadata": {},
   "source": [
    "# ReadMe\n",
    "\n",
    "Unless explicitly specified, the basic units in this notebook are constructed from um, fs and keV without other constant."
   ]
  },
  {
   "cell_type": "code",
   "execution_count": 1,
   "metadata": {},
   "outputs": [],
   "source": [
    "import sys\n",
    "sys.path.append(\"../../../XRaySimulation\")\n",
    "\n",
    "import numpy as np\n",
    "import matplotlib.pyplot as plt\n",
    "\n",
    "from XRaySimulation import util, misc, Crystal"
   ]
  },
  {
   "cell_type": "markdown",
   "metadata": {},
   "source": [
    " ![](Example1.png)"
   ]
  },
  {
   "cell_type": "markdown",
   "metadata": {},
   "source": [
    "# Specify the crystal "
   ]
  },
  {
   "cell_type": "code",
   "execution_count": 15,
   "metadata": {},
   "outputs": [],
   "source": [
    "# Some meta data for the delay line.\n",
    "h_length = 2. * np.pi / (1.9201 * 1e-4)\n",
    "\n",
    "# Some crystal properties\n",
    "chi_dict = {\"chi0\":complex(-0.10826E-04, 0.18209E-06 ),\n",
    "            \"chih_sigma\":complex(0.65800E-05, -0.17530E-06),\n",
    "            \"chihbar_sigma\":complex(0.65800E-05, -0.17530E-06),\n",
    "            \"chih_pi\":complex(0.50600E-05, -0.13313E-06),\n",
    "            \"chihbar_pi\":complex(0.50600E-05, -0.13313E-06)\n",
    "           }\n",
    "\n",
    "# Asymmetric angle\n",
    "alphas = -np.deg2rad(0.)\n",
    "\n",
    "# Initialize the crystals\n",
    "my_crystal1 = Crystal.CrystalBlock3D(h=np.array([0, h_length, 0]),\n",
    "                                         normal=-np.array([0., np.cos(alphas),np.sin(alphas)]),\n",
    "                                         surface_point=np.zeros(3),\n",
    "                                         thickness=5.,\n",
    "                                         chi_dict=chi_dict)\n",
    "\n",
    "my_crystal2 = Crystal.CrystalBlock3D(h=np.array([0, h_length, 0]),\n",
    "                                         normal=-np.array([0., np.cos(alphas),np.sin(alphas)]),\n",
    "                                         surface_point=np.zeros(3),\n",
    "                                         thickness=30,\n",
    "                                         chi_dict=chi_dict)\n",
    "\n",
    "my_crystal3 = Crystal.CrystalBlock3D(h=np.array([0, h_length, 0]),\n",
    "                                         normal=-np.array([0., np.cos(alphas),np.sin(alphas)]),\n",
    "                                         surface_point=np.zeros(3),\n",
    "                                         thickness=1e6,\n",
    "                                         chi_dict=chi_dict)"
   ]
  },
  {
   "cell_type": "markdown",
   "metadata": {},
   "source": [
    "# Specify incident wave vectors"
   ]
  },
  {
   "cell_type": "code",
   "execution_count": 16,
   "metadata": {},
   "outputs": [],
   "source": [
    "central_energy = 9.5 #kev\n",
    "number_wavevec = 1000  # The number of wave vector to calculate \n",
    "energy_range = 2e-3 #keV.  The energy to calculate the reflectivity"
   ]
  },
  {
   "cell_type": "code",
   "execution_count": 17,
   "metadata": {},
   "outputs": [
    {
     "name": "stdout",
     "output_type": "stream",
     "text": [
      "The bragg angle is 19.87 degree\n"
     ]
    }
   ],
   "source": [
    "# Convert the energy to the wave vector\n",
    "central_wavevec = np.array([0,0, util.kev_to_wavevec_length(central_energy)])\n",
    "\n",
    "# Get the wave vector array and other axes info\n",
    "k_in_grid, axis_info = util.get_k_mesh_1d(number = number_wavevec, energy_range = energy_range)\n",
    "\n",
    "# Add the reference wave vector to the wave vector\n",
    "k_in_grid += central_wavevec[np.newaxis, :]\n",
    "\n",
    "# Define the bragg angle to rotate the wave vector array\n",
    "bragg = util.get_bragg_angle(wave_length = np.pi * 2 / util.kev_to_wavevec_length(energy=central_energy),\n",
    "                             plane_distance = np.pi * 2 / h_length)\n",
    "print(\"The bragg angle is {:.2f} degree\".format(np.rad2deg(bragg)))\n",
    "\n",
    "# Ajust the Bragg angle a bit\n",
    "\"\"\"\n",
    "This is just used to shift the rocking curve to the center.\n",
    "This is not necessary.\n",
    "\"\"\"\n",
    "bragg += 11e-6\n",
    "\n",
    "# Get the rotation matrix for the rotation\n",
    "rot_mat = util.rot_mat_in_yz_plane(theta= bragg)\n",
    "\n",
    "# Rotate the wave vectors\n",
    "k_in_grid = np.dot(k_in_grid, rot_mat.T)"
   ]
  },
  {
   "cell_type": "markdown",
   "metadata": {},
   "source": [
    "# Get the reflectivity"
   ]
  },
  {
   "cell_type": "code",
   "execution_count": 18,
   "metadata": {},
   "outputs": [
    {
     "name": "stdout",
     "output_type": "stream",
     "text": [
      "Finish calculating the reflectivity\n",
      "Finish calculating the reflectivity\n",
      "Finish calculating the reflectivity\n"
     ]
    }
   ],
   "source": [
    "#########################################################################\n",
    "(reflect_sigma1, \n",
    " reflect_pi1,\n",
    " b1,\n",
    " kout_grid1) = util.get_bragg_reflection_array(kin_grid = k_in_grid,\n",
    "                                         d = my_crystal1.thickness,\n",
    "                                         h = my_crystal1.h,\n",
    "                                         n = my_crystal1.normal,\n",
    "                                         chi0 = my_crystal1.chi0,\n",
    "                                         chih_sigma = my_crystal1.chih_sigma,\n",
    "                                         chihbar_sigma = my_crystal1.chihbar_sigma,\n",
    "                                         chih_pi = my_crystal1.chih_pi,\n",
    "                                         chihbar_pi = my_crystal1.chihbar_pi)\n",
    "print(\"Finish calculating the reflectivity\")\n",
    "\n",
    "#########################################################################\n",
    "(reflect_sigma2, \n",
    " reflect_pi2,\n",
    " b2,\n",
    " kout_grid2) = util.get_bragg_reflection_array(kin_grid = k_in_grid,\n",
    "                                         d = my_crystal2.thickness,\n",
    "                                         h = my_crystal2.h,\n",
    "                                         n = my_crystal2.normal,\n",
    "                                         chi0 = my_crystal2.chi0,\n",
    "                                         chih_sigma = my_crystal2.chih_sigma,\n",
    "                                         chihbar_sigma = my_crystal2.chihbar_sigma,\n",
    "                                         chih_pi = my_crystal2.chih_pi,\n",
    "                                         chihbar_pi = my_crystal2.chihbar_pi)\n",
    "print(\"Finish calculating the reflectivity\")\n",
    "#########################################################################\n",
    "\n",
    "(reflect_sigma3, \n",
    " reflect_pi3,\n",
    " b3,\n",
    " kout_grid3) = util.get_bragg_reflection_array(kin_grid = k_in_grid,\n",
    "                                         d = my_crystal3.thickness,\n",
    "                                         h = my_crystal3.h,\n",
    "                                         n = my_crystal3.normal,\n",
    "                                         chi0 = my_crystal3.chi0,\n",
    "                                         chih_sigma = my_crystal3.chih_sigma,\n",
    "                                         chihbar_sigma = my_crystal3.chihbar_sigma,\n",
    "                                         chih_pi = my_crystal3.chih_pi,\n",
    "                                         chihbar_pi = my_crystal3.chihbar_pi)\n",
    "print(\"Finish calculating the reflectivity\")\n",
    "\n",
    "#########################################################################\n",
    "sigma_reflectivity1 = np.abs(np.square(reflect_sigma1)) / np.abs(b1)\n",
    "pi_reflectivity1 = np.abs(np.square(reflect_pi1)) / np.abs(b1)\n",
    "\n",
    "sigma_reflectivity2 = np.abs(np.square(reflect_sigma2)) / np.abs(b2)\n",
    "pi_reflectivity2 = np.abs(np.square(reflect_pi2)) / np.abs(b2)\n",
    "\n",
    "sigma_reflectivity3 = np.abs(np.square(reflect_sigma3)) / np.abs(b3)\n",
    "pi_reflectivity3 = np.abs(np.square(reflect_pi3)) / np.abs(b3)"
   ]
  },
  {
   "cell_type": "markdown",
   "metadata": {},
   "source": [
    "# Show curves"
   ]
  },
  {
   "cell_type": "code",
   "execution_count": 29,
   "metadata": {},
   "outputs": [],
   "source": [
    " plt.rcParams[\"font.family\"] = \"Times New Roman\""
   ]
  },
  {
   "cell_type": "code",
   "execution_count": 66,
   "metadata": {},
   "outputs": [
    {
     "data": {
      "image/png": "[encoded data removed]",
      "text/plain": [
       "<Figure size 720x360 with 1 Axes>"
      ]
     },
     "metadata": {
      "needs_background": "light"
     },
     "output_type": "display_data"
    }
   ],
   "source": [
    "fontsize=18\n",
    "\n",
    "fig, axes = plt.subplots(nrows=1, ncols=1)\n",
    "fig.set_figheight(5)\n",
    "fig.set_figwidth(10)\n",
    "\n",
    "axes.plot(axis_info['energy_grid'] * 1000, sigma_reflectivity1,c='b', linewidth=3, alpha=0.5,label=\"$d=5~\\mu m$\")\n",
    "axes.plot(axis_info['energy_grid'] * 1000, sigma_reflectivity2,c='g', linewidth=3, alpha=0.5, label=\"$d=30~\\mu m$\")\n",
    "axes.plot(axis_info['energy_grid'] * 1000, sigma_reflectivity3,c='r', linestyle='--', label=\"$d=\\infty$\")\n",
    "\n",
    "\n",
    "axes.legend(loc = \"upper right\", fontsize=fontsize)\n",
    "axes.set_xlabel(\"Energy: $E-E_c$ (eV)\", fontsize=fontsize)\n",
    "axes.set_ylabel(\"Reflectivity\", fontsize=fontsize)\n",
    "axes.set_xticklabels(labels=np.linspace(-2.5, 2, 10, endpoint=True,), fontsize=fontsize)\n",
    "axes.set_yticks(np.linspace(0, 1, 5, endpoint=True,))\n",
    "axes.set_yticklabels(labels=np.linspace(0, 1, 5, endpoint=True,), fontsize=fontsize)\n",
    "\n",
    "plt.savefig(\"C:/Users/haoyuan/Desktop/reflectivity_vs_thickness.png\",\n",
    "            dpi=600,\n",
    "            bbox_inches='tight', \n",
    "            pad_inches=0.0,)\n",
    "plt.show()"
   ]
  },
  {
   "cell_type": "markdown",
   "metadata": {},
   "source": [
    "# Get Bandwidth"
   ]
  },
  {
   "cell_type": "code",
   "execution_count": 79,
   "metadata": {
    "scrolled": true
   },
   "outputs": [
    {
     "name": "stdout",
     "output_type": "stream",
     "text": [
      "The fwhm of the reflectivity curver of the sigma polarization is\n",
      "1.28e+00 eV\n",
      "The fwhm of the reflectivity curver of the pi polarization is\n",
      "1.20e+00 eV\n"
     ]
    }
   ],
   "source": [
    "fwhm_sigma = misc.get_fwhm(coordinate=axis_info[\"energy_grid\"],\n",
    "                           curve_values=sigma_reflectivity)\n",
    "\n",
    "print(\"The fwhm of the reflectivity curver of the sigma polarization is\")\n",
    "print(\"{:.2e} eV\".format(fwhm_sigma * 1000))\n",
    "\n",
    "fwhm_pi = misc.get_fwhm(coordinate=axis_info[\"energy_grid\"],\n",
    "                           curve_values=pi_reflectivity)\n",
    "\n",
    "print(\"The fwhm of the reflectivity curver of the pi polarization is\")\n",
    "print(\"{:.2e} eV\".format(fwhm_pi * 1000))"
   ]
  }
 ],
 "metadata": {
  "kernelspec": {
   "display_name": "Python 3",
   "language": "python",
   "name": "python3"
  },
  "language_info": {
   "codemirror_mode": {
    "name": "ipython",
    "version": 3
   },
   "file_extension": ".py",
   "mimetype": "text/x-python",
   "name": "python",
   "nbconvert_exporter": "python",
   "pygments_lexer": "ipython3",
   "version": "3.6.10"
  }
 },
 "nbformat": 4,
 "nbformat_minor": 4
}
