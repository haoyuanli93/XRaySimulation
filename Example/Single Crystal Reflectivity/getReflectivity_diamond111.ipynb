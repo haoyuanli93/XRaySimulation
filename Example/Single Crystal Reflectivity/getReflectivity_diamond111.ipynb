{
 "cells": [
  {
   "cell_type": "markdown",
   "metadata": {},
   "source": [
    "# ReadMe\n",
    "\n",
    "Unless explicitly specified, the basic units in this notebook are constructed from um, fs and keV without other constant."
   ]
  },
  {
   "cell_type": "code",
   "execution_count": 1,
   "metadata": {},
   "outputs": [],
   "source": [
    "import sys\n",
    "sys.path.append(\"../../../XRaySimulation\")\n",
    "\n",
    "import numpy as np\n",
    "import matplotlib.pyplot as plt\n",
    "\n",
    "from XRaySimulation import util, misc, Crystal, GetCrystalParam"
   ]
  },
  {
   "cell_type": "markdown",
   "metadata": {},
   "source": [
    " ![](Example1.png)"
   ]
  },
  {
   "cell_type": "markdown",
   "metadata": {},
   "source": [
    "# Specify the crystal "
   ]
  },
  {
   "cell_type": "code",
   "execution_count": 2,
   "metadata": {},
   "outputs": [],
   "source": [
    "E0 = 9.83 #kev\n",
    "waveVecNum = 100000  # The number of wave vector to calculate \n",
    "energyRange = 0.002 #keV.  The energy to calculate the reflectivity"
   ]
  },
  {
   "cell_type": "code",
   "execution_count": 14,
   "metadata": {},
   "outputs": [],
   "source": [
    "crystalProperties = GetCrystalParam.getCrystalParam(CrystalType=\"Diamond\", MillerIndex=\"111\", EnergyKeV=E0)\n",
    "                    \n",
    "\n",
    "# Initialize the crystal\n",
    "myCrystals = Crystal.CrystalBlock3D(h=np.array([0.0, np.pi * 2 / crystalProperties['d'], 0.0]),\n",
    "                                     normal=np.array([0., - 1.0, 0.0]),\n",
    "                                     surface_point=np.zeros(3),\n",
    "                                     thickness=100,  # um\n",
    "                                     chi_dict={\"chi0\": crystalProperties['chi0'],\n",
    "                                               \"chih_sigma\": crystalProperties['chi_s'],\n",
    "                                               \"chihbar_sigma\": crystalProperties['chi_s'],\n",
    "                                               \"chih_pi\": crystalProperties['chi_s'],\n",
    "                                               \"chihbar_pi\": crystalProperties['chi_p'],})"
   ]
  },
  {
   "cell_type": "markdown",
   "metadata": {},
   "source": [
    "# Specify incident wave vectors"
   ]
  },
  {
   "cell_type": "code",
   "execution_count": 15,
   "metadata": {},
   "outputs": [
    {
     "name": "stdout",
     "output_type": "stream",
     "text": [
      "The bragg angle is 17.83 degree\n"
     ]
    }
   ],
   "source": [
    "# Convert the energy to the wave vector\n",
    "waveVec0 = np.array([0,0, util.kev_to_wavevec_length(E0)])\n",
    "\n",
    "# Get the wave vector array and other axes info\n",
    "kInGrid, axisInfo = util.get_k_mesh_1d(number = waveVecNum, energy_range = energyRange)\n",
    "\n",
    "# Add the reference wave vector to the wave vector\n",
    "kInGrid += waveVec0[np.newaxis, :]\n",
    "\n",
    "# Define the bragg angle to rotate the wave vector array\n",
    "bragg = util.get_bragg_angle(wave_length = np.pi * 2 / util.kev_to_wavevec_length(energy=E0),\n",
    "                             plane_distance = crystalProperties['d'])\n",
    "print(\"The bragg angle is {:.2f} degree\".format(np.rad2deg(bragg)))\n",
    "\n",
    "# Ajust the Bragg angle a bit\n",
    "\"\"\"\n",
    "This is just used to shift the rocking curve to the center.\n",
    "This is not necessary.\n",
    "\"\"\"\n",
    "#bragg += 1e-6\n",
    "\n",
    "# Get the rotation matrix for the rotation\n",
    "rotMat = util.rot_mat_in_yz_plane(theta= bragg)\n",
    "\n",
    "# Rotate the wave vectors\n",
    "kInGrid = np.dot(kInGrid, rotMat.T)"
   ]
  },
  {
   "cell_type": "markdown",
   "metadata": {},
   "source": [
    "# Get the reflectivity"
   ]
  },
  {
   "cell_type": "code",
   "execution_count": 16,
   "metadata": {},
   "outputs": [
    {
     "name": "stdout",
     "output_type": "stream",
     "text": [
      "Finish calculating the reflectivity\n"
     ]
    }
   ],
   "source": [
    "#########################################################################\n",
    "(reflect_sigma, \n",
    " reflect_pi,\n",
    " b,\n",
    " kout_grid) = util.get_bragg_reflection_array(kin_grid = kInGrid,\n",
    "                                         d = myCrystals.thickness,\n",
    "                                         h = myCrystals.h,\n",
    "                                         n = myCrystals.normal,\n",
    "                                         chi0 = myCrystals.chi0,\n",
    "                                         chih_sigma = myCrystals.chih_sigma,\n",
    "                                         chihbar_sigma = myCrystals.chihbar_sigma,\n",
    "                                         chih_pi = myCrystals.chih_pi,\n",
    "                                         chihbar_pi = myCrystals.chihbar_pi)\n",
    "print(\"Finish calculating the reflectivity\")\n",
    "\n",
    "#########################################################################\n",
    "sigma_reflectivity = np.abs(np.square(reflect_sigma)) / np.abs(b)\n",
    "#pi_reflectivity = np.abs(np.square(reflect_pi)) / np.abs(b)"
   ]
  },
  {
   "cell_type": "markdown",
   "metadata": {},
   "source": [
    "# Show curves"
   ]
  },
  {
   "cell_type": "code",
   "execution_count": 17,
   "metadata": {},
   "outputs": [],
   "source": [
    " plt.rcParams[\"font.family\"] = \"Times New Roman\""
   ]
  },
  {
   "cell_type": "code",
   "execution_count": 18,
   "metadata": {},
   "outputs": [
    {
     "data": {
      "image/png": "[encoded data removed]",
      "text/plain": [
       "<Figure size 720x360 with 1 Axes>"
      ]
     },
     "metadata": {
      "needs_background": "light"
     },
     "output_type": "display_data"
    }
   ],
   "source": [
    "fontsize=18\n",
    "\n",
    "fig, axes = plt.subplots(nrows=1, ncols=1)\n",
    "fig.set_figheight(5)\n",
    "fig.set_figwidth(10)\n",
    "\n",
    "axes.plot(axisInfo['energy_grid'] * 1000, sigma_reflectivity,c='b', linewidth=1, alpha=0.5,label=\"$d=100~\\mu m$\")\n",
    "\n",
    "axes.legend(loc = \"upper right\", fontsize=fontsize)\n",
    "axes.set_xlabel(\"Energy: $E-E_c$ (eV)\", fontsize=fontsize)\n",
    "axes.set_ylabel(\"Reflectivity\", fontsize=fontsize)\n",
    "axes.set_xlim([-1,2])\n",
    "#axes.set_xticklabels(labels=np.linspace(-2.5, 2, 10, endpoint=True,), fontsize=fontsize)\n",
    "#axes.set_yticks(np.linspace(0, 1, 5, endpoint=True,))\n",
    "#axes.set_yticklabels(labels=np.linspace(0, 1, 5, endpoint=True,), fontsize=fontsize)\n",
    "\n",
    "#plt.savefig(\"C:/Users/haoyuan/Desktop/reflectivity_vs_thickness.png\",\n",
    "#            dpi=600,\n",
    "#            bbox_inches='tight', \n",
    "#            pad_inches=0.0,)\n",
    "plt.show()"
   ]
  },
  {
   "cell_type": "markdown",
   "metadata": {},
   "source": [
    "# Get Bandwidth"
   ]
  },
  {
   "cell_type": "code",
   "execution_count": 19,
   "metadata": {
    "scrolled": false
   },
   "outputs": [
    {
     "name": "stdout",
     "output_type": "stream",
     "text": [
      "The fwhm of the reflectivity curver of the sigma polarization of infinitely thick crystal is\n",
      "7.32e-01 eV\n"
     ]
    }
   ],
   "source": [
    "fwhm_sigma = misc.get_fwhm(coordinate=axisInfo[\"energy_grid\"],\n",
    "                           curve_values=sigma_reflectivity)\n",
    "\n",
    "print(\"The fwhm of the reflectivity curver of the sigma polarization of infinitely thick crystal is\")\n",
    "print(\"{:.2e} eV\".format(fwhm_sigma * 1000))"
   ]
  },
  {
   "cell_type": "markdown",
   "metadata": {},
   "source": [
    "# square filter, 30meV"
   ]
  },
  {
   "cell_type": "code",
   "execution_count": 20,
   "metadata": {},
   "outputs": [],
   "source": [
    "energyRes = axisInfo[\"energy_grid\"][1] - axisInfo[\"energy_grid\"][0]\n",
    "numReduction = 30 * 1e-6 / energyRes # 30 meV in keV"
   ]
  },
  {
   "cell_type": "code",
   "execution_count": 21,
   "metadata": {},
   "outputs": [
    {
     "data": {
      "text/plain": [
       "749.9924999997959"
      ]
     },
     "execution_count": 21,
     "metadata": {},
     "output_type": "execute_result"
    }
   ],
   "source": [
    "numReduction"
   ]
  },
  {
   "cell_type": "code",
   "execution_count": 22,
   "metadata": {},
   "outputs": [
    {
     "data": {
      "text/plain": [
       "133.33333333333334"
      ]
     },
     "execution_count": 22,
     "metadata": {},
     "output_type": "execute_result"
    }
   ],
   "source": [
    "waveVecNum / 750"
   ]
  },
  {
   "cell_type": "code",
   "execution_count": 23,
   "metadata": {},
   "outputs": [],
   "source": [
    "refReduced = np.mean(np.reshape(sigma_reflectivity[:133 * 750], (133, 750)), axis=-1)\n",
    "energyReduced = axisInfo[\"energy_grid\"][:133 * 750:750]"
   ]
  },
  {
   "cell_type": "code",
   "execution_count": 24,
   "metadata": {},
   "outputs": [
    {
     "data": {
      "image/png": "[encoded data removed]",
      "text/plain": [
       "<Figure size 720x360 with 1 Axes>"
      ]
     },
     "metadata": {
      "needs_background": "light"
     },
     "output_type": "display_data"
    }
   ],
   "source": [
    "fontsize=18\n",
    "\n",
    "fig, axes = plt.subplots(nrows=1, ncols=1)\n",
    "fig.set_figheight(5)\n",
    "fig.set_figwidth(10)\n",
    "\n",
    "axes.plot(energyReduced * 1000, refReduced,c='b', linewidth=1, alpha=0.5,label=\"$d=100~\\mu m$\")\n",
    "\n",
    "axes.legend(loc = \"upper right\", fontsize=fontsize)\n",
    "axes.set_xlabel(\"Energy: $E-E_c$ (eV)\", fontsize=fontsize)\n",
    "axes.set_ylabel(\"Reflectivity\", fontsize=fontsize)\n",
    "axes.set_xlim([-1,2])\n",
    "\n",
    "plt.show()"
   ]
  },
  {
   "cell_type": "code",
   "execution_count": null,
   "metadata": {},
   "outputs": [],
   "source": [
    "np.save(\"C:/Users/haoyuan/Desktop/energy_keV.npy\", axisInfo[\"energy_grid\"])"
   ]
  }
 ],
 "metadata": {
  "kernelspec": {
   "display_name": "Python 3",
   "language": "python",
   "name": "python3"
  },
  "language_info": {
   "codemirror_mode": {
    "name": "ipython",
    "version": 3
   },
   "file_extension": ".py",
   "mimetype": "text/x-python",
   "name": "python",
   "nbconvert_exporter": "python",
   "pygments_lexer": "ipython3",
   "version": "3.6.12"
  }
 },
 "nbformat": 4,
 "nbformat_minor": 4
}
